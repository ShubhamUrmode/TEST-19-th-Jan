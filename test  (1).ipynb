{
 "cells": [
  {
   "cell_type": "code",
   "execution_count": 3,
   "id": "0c565f1d",
   "metadata": {},
   "outputs": [
    {
     "name": "stdout",
     "output_type": "stream",
     "text": [
      "2002 ,\n",
      "2009 ,\n",
      "2016 ,\n",
      "2023 ,\n",
      "2037 ,\n",
      "2044 ,\n",
      "2051 ,\n",
      "2058 ,\n",
      "2072 ,\n",
      "2079 ,\n",
      "2086 ,\n",
      "2093 ,\n",
      "2107 ,\n",
      "2114 ,\n",
      "2121 ,\n",
      "2128 ,\n",
      "2142 ,\n",
      "2149 ,\n",
      "2156 ,\n",
      "2163 ,\n",
      "2177 ,\n",
      "2184 ,\n",
      "2191 ,\n",
      "2198 ,\n",
      "2212 ,\n",
      "2219 ,\n",
      "2226 ,\n",
      "2233 ,\n",
      "2247 ,\n",
      "2254 ,\n",
      "2261 ,\n",
      "2268 ,\n",
      "2282 ,\n",
      "2289 ,\n",
      "2296 ,\n",
      "2303 ,\n",
      "2317 ,\n",
      "2324 ,\n",
      "2331 ,\n",
      "2338 ,\n",
      "2352 ,\n",
      "2359 ,\n",
      "2366 ,\n",
      "2373 ,\n",
      "2387 ,\n",
      "2394 ,\n",
      "2401 ,\n",
      "2408 ,\n",
      "2422 ,\n",
      "2429 ,\n",
      "2436 ,\n",
      "2443 ,\n",
      "2457 ,\n",
      "2464 ,\n",
      "2471 ,\n",
      "2478 ,\n",
      "2492 ,\n",
      "2499 ,\n",
      "2506 ,\n",
      "2513 ,\n",
      "2527 ,\n",
      "2534 ,\n",
      "2541 ,\n",
      "2548 ,\n",
      "2562 ,\n",
      "2569 ,\n",
      "2576 ,\n",
      "2583 ,\n",
      "2597 ,\n",
      "2604 ,\n",
      "2611 ,\n",
      "2618 ,\n",
      "2632 ,\n",
      "2639 ,\n",
      "2646 ,\n",
      "2653 ,\n",
      "2667 ,\n",
      "2674 ,\n",
      "2681 ,\n",
      "2688 ,\n",
      "2702 ,\n",
      "2709 ,\n",
      "2716 ,\n",
      "2723 ,\n",
      "2737 ,\n",
      "2744 ,\n",
      "2751 ,\n",
      "2758 ,\n",
      "2772 ,\n",
      "2779 ,\n",
      "2786 ,\n",
      "2793 ,\n",
      "2807 ,\n",
      "2814 ,\n",
      "2821 ,\n",
      "2828 ,\n",
      "2842 ,\n",
      "2849 ,\n",
      "2856 ,\n",
      "2863 ,\n",
      "2877 ,\n",
      "2884 ,\n",
      "2891 ,\n",
      "2898 ,\n",
      "2912 ,\n",
      "2919 ,\n",
      "2926 ,\n",
      "2933 ,\n",
      "2947 ,\n",
      "2954 ,\n",
      "2961 ,\n",
      "2968 ,\n",
      "2982 ,\n",
      "2989 ,\n",
      "2996 ,\n",
      "3003 ,\n",
      "3017 ,\n",
      "3024 ,\n",
      "3031 ,\n",
      "3038 ,\n",
      "3052 ,\n",
      "3059 ,\n",
      "3066 ,\n",
      "3073 ,\n",
      "3087 ,\n",
      "3094 ,\n",
      "3101 ,\n",
      "3108 ,\n",
      "3122 ,\n",
      "3129 ,\n",
      "3136 ,\n",
      "3143 ,\n",
      "3157 ,\n",
      "3164 ,\n",
      "3171 ,\n",
      "3178 ,\n",
      "3192 ,\n",
      "3199 ,\n"
     ]
    }
   ],
   "source": [
    "#Q1 \n",
    "L = 2000\n",
    "H = 3201\n",
    "for i in range (L,H):\n",
    "    if i%7 == 0 and i%5!=0:\n",
    "        print(i,\",\")\n"
   ]
  },
  {
   "cell_type": "code",
   "execution_count": 10,
   "id": "93f19d64",
   "metadata": {},
   "outputs": [
    {
     "name": "stdout",
     "output_type": "stream",
     "text": [
      "enter a StringASHbibIABSIDBiB\n",
      "Uppercase letters: 11\n",
      "Lowercase letters: 4\n"
     ]
    }
   ],
   "source": [
    "#Q2\n",
    "def count_letters(string):\n",
    "    upper_count = 0\n",
    "    lower_count = 0\n",
    "    for char in string:\n",
    "        if char.isupper():\n",
    "            upper_count += 1\n",
    "        elif char.islower():\n",
    "            lower_count += 1\n",
    "    print(\"Uppercase letters:\", upper_count)\n",
    "    print(\"Lowercase letters:\", lower_count)\n",
    "string = str(input(\"enter a String\"))\n",
    "count_letters(string)"
   ]
  },
  {
   "cell_type": "raw",
   "id": "b78f173a",
   "metadata": {},
   "source": [
    "#Q3\n",
    "\n",
    "1) Drop Missing value Rows \n",
    "2) Outlier Removal\n",
    "3) Check for Repeating calues in Rows & columns \n",
    "4) Drop Unnecessary Columns"
   ]
  },
  {
   "cell_type": "markdown",
   "id": "d0726f2f",
   "metadata": {},
   "source": [
    "#Q4\n",
    "Generally High Accuracy means there is a problem of overfitting with the model \n",
    "- To reduce overfitting problem perform Regularization, Cross Validation, Early Stopping, Data Balancing, UnderSampling, Oversamplin and Ensemple techniques."
   ]
  },
  {
   "cell_type": "code",
   "execution_count": null,
   "id": "c6df81b3",
   "metadata": {},
   "outputs": [],
   "source": [
    "#Q5\n"
   ]
  },
  {
   "cell_type": "markdown",
   "id": "9b582e1e",
   "metadata": {},
   "source": [
    "#Q6\n",
    "It indicates that the model is fitting the training data very well but is not Performing well to new, unseen data. \n",
    "To address this issue, We typically use techniques or algorithms that reduce variance without significantly increasing bias.\n",
    "1) Stratified K Fold - Reduce imbalancing and every Test set is part of training and testing \n"
   ]
  },
  {
   "cell_type": "code",
   "execution_count": 12,
   "id": "5a633674",
   "metadata": {},
   "outputs": [
    {
     "name": "stdout",
     "output_type": "stream",
     "text": [
      "{1: 1, 2: 4, 3: 9, 4: 16, 5: 25, 6: 36, 7: 49, 8: 64, 9: 81, 10: 100, 11: 121, 12: 144, 13: 169, 14: 196, 15: 225, 16: 256, 17: 289, 18: 324, 19: 361, 20: 400}\n"
     ]
    }
   ],
   "source": [
    "#Q12\n",
    "def generate_squared_dictionary():\n",
    "    squared_dict = {i: i**2 for i in range(1, 21)}\n",
    "    return squared_dict\n",
    "result_dict = generate_squared_dictionary()\n",
    "print(result_dict)\n"
   ]
  },
  {
   "cell_type": "code",
   "execution_count": 15,
   "id": "ffeabc55",
   "metadata": {},
   "outputs": [
    {
     "name": "stdout",
     "output_type": "stream",
     "text": [
      "First Half: (1, 2, 3, 4, 5)\n",
      "Second Half: (6, 7, 8, 9, 10)\n"
     ]
    }
   ],
   "source": [
    "#Q13\n",
    "my_tuple = (1, 2, 3, 4, 5, 6, 7, 8, 9, 10)\n",
    "print(\"First Half:\", my_tuple[:5])\n",
    "print(\"Second Half:\", my_tuple[5:])\n",
    "\n"
   ]
  },
  {
   "cell_type": "code",
   "execution_count": 25,
   "id": "9ee6e40d",
   "metadata": {},
   "outputs": [
    {
     "name": "stdout",
     "output_type": "stream",
     "text": [
      "158\n",
      "198\n",
      "188\n",
      "110\n",
      "158\n",
      "166\n",
      "116\n"
     ]
    }
   ],
   "source": [
    "#Q14\n",
    "import random\n",
    "for i in range (10):\n",
    "    random_number = random.randint(100, 200)\n",
    "    if random_number%2==0:\n",
    "        print(random_number)\n",
    "        "
   ]
  },
  {
   "cell_type": "code",
   "execution_count": 26,
   "id": "d3d56203",
   "metadata": {},
   "outputs": [
    {
     "name": "stdout",
     "output_type": "stream",
     "text": [
      "Unknown Gender\n",
      "Male\n",
      "Female\n"
     ]
    }
   ],
   "source": [
    "#Q 15\n",
    "class Person:\n",
    "    def getGender(self):\n",
    "        print(\"Unknown Gender\")\n",
    "\n",
    "class Male(Person):\n",
    "    def getGender(self):\n",
    "        print(\"Male\")\n",
    "\n",
    "class Female(Person):\n",
    "    def getGender(self):\n",
    "        print(\"Female\")\n",
    "person = Person()\n",
    "male = Male()\n",
    "female = Female()\n",
    "\n",
    "person.getGender() \n",
    "male.getGender()    \n",
    "female.getGender()  "
   ]
  },
  {
   "cell_type": "code",
   "execution_count": null,
   "id": "4f2991cf",
   "metadata": {},
   "outputs": [],
   "source": []
  }
 ],
 "metadata": {
  "kernelspec": {
   "display_name": "Python 3 (ipykernel)",
   "language": "python",
   "name": "python3"
  },
  "language_info": {
   "codemirror_mode": {
    "name": "ipython",
    "version": 3
   },
   "file_extension": ".py",
   "mimetype": "text/x-python",
   "name": "python",
   "nbconvert_exporter": "python",
   "pygments_lexer": "ipython3",
   "version": "3.11.4"
  }
 },
 "nbformat": 4,
 "nbformat_minor": 5
}
